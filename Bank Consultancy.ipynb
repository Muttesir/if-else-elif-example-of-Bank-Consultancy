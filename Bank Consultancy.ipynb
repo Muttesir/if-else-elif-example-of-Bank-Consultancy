{
 "cells": [
  {
   "cell_type": "code",
   "execution_count": 18,
   "metadata": {},
   "outputs": [
    {
     "name": "stdin",
     "output_type": "stream",
     "text": [
      "Enter credit score 2\n",
      "Enter adress term 16\n",
      "Enter income 15000\n",
      "Enter loan amount requested 10000\n"
     ]
    },
    {
     "name": "stdout",
     "output_type": "stream",
     "text": [
      "Application is refused \n"
     ]
    }
   ],
   "source": [
    "cs=int(input('Enter credit score' ))  \n",
    "ad=int(input('Enter adress term'))\n",
    "i=int(input('Enter income'))\n",
    "rqt=int(input('Enter loan amount requested'))\n",
    "if i==0 or cs==0 or ad<12:\n",
    "    print('Request is refused:')\n",
    "elif rqt>i and rqt<i*2 and ad>=60 and cs>=5 and cs<=10:\n",
    "    print('Loan is granted:',(rqt))\n",
    "elif  cs>=7 and cs<=10 and ad>=12 and cs<=60 and rqt<i:\n",
    "    print('Loan is granted:',(rqt))\n",
    "elif cs>=2 and cs<=5 and ad>=60 and rqt<i:\n",
    "    print('Loan is granted:',(rqt))\n",
    "elif cs==1 and ad>12 and rqt<i*20/100:\n",
    "    print('Loan is granted:', (rqt))\n",
    "else:\n",
    "    print('Application is refused ')"
   ]
  },
  {
   "cell_type": "code",
   "execution_count": null,
   "metadata": {},
   "outputs": [],
   "source": []
  }
 ],
 "metadata": {
  "kernelspec": {
   "display_name": "Python 3",
   "language": "python",
   "name": "python3"
  },
  "language_info": {
   "codemirror_mode": {
    "name": "ipython",
    "version": 3
   },
   "file_extension": ".py",
   "mimetype": "text/x-python",
   "name": "python",
   "nbconvert_exporter": "python",
   "pygments_lexer": "ipython3",
   "version": "3.7.6"
  }
 },
 "nbformat": 4,
 "nbformat_minor": 4
}
