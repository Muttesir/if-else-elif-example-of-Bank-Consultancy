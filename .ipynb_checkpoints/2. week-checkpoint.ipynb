{
 "cells": [
  {
   "cell_type": "code",
   "execution_count": 3,
   "metadata": {},
   "outputs": [
    {
     "name": "stdin",
     "output_type": "stream",
     "text": [
      "Enter number 8\n",
      "Enter number 52\n"
     ]
    },
    {
     "name": "stdout",
     "output_type": "stream",
     "text": [
      "b is bigger than a\n"
     ]
    }
   ],
   "source": [
    "#Comparing Numbers\n",
    "a=int(input('Enter number'))\n",
    "b=int(input('Enter number'))\n",
    "if a>b:\n",
    "    print(' a is bigger than b')\n",
    "elif a==b:\n",
    "    print('a  and b equal ')\n",
    "else:\n",
    "    print('b is bigger than a')\n"
   ]
  },
  {
   "cell_type": "code",
   "execution_count": null,
   "metadata": {},
   "outputs": [],
   "source": []
  },
  {
   "cell_type": "code",
   "execution_count": 25,
   "metadata": {},
   "outputs": [
    {
     "name": "stdin",
     "output_type": "stream",
     "text": [
      "enter name : Muttesir\n",
      "enter age  32\n",
      "Country name  Turkey\n"
     ]
    },
    {
     "name": "stdout",
     "output_type": "stream",
     "text": [
      "You are Not eligible for vote\n"
     ]
    }
   ],
   "source": [
    "#Eligible Voters\n",
    "\n",
    "name=input('enter name :')\n",
    "age=int(input('enter age '))\n",
    "country=input('Country name ')\n",
    "if age>=18 and country == 'UK' :\n",
    "    status='Eligible'\n",
    "else:\n",
    "    status='Not eligible'\n",
    "\n",
    "print('You are', status, 'for vote')\n"
   ]
  },
  {
   "cell_type": "code",
   "execution_count": 53,
   "metadata": {},
   "outputs": [
    {
     "name": "stdin",
     "output_type": "stream",
     "text": [
      "Enter number 25\n"
     ]
    },
    {
     "name": "stdout",
     "output_type": "stream",
     "text": [
      "Buzz\n"
     ]
    }
   ],
   "source": [
    "#Fizz Buzz\n",
    "\n",
    "x=int(input('Enter number'))\n",
    "if x % 3 == 0 and x % 5 == 0:\n",
    "        print( \"Fizzbuzz\")\n",
    "elif x % 3 == 0:\n",
    "        print (\"Fizz\")\n",
    "elif x % 5 == 0:\n",
    "        print (\"Buzz\")\n",
    "else:\n",
    "        print('x')\n",
    "        "
   ]
  },
  {
   "cell_type": "code",
   "execution_count": 6,
   "metadata": {},
   "outputs": [
    {
     "name": "stdin",
     "output_type": "stream",
     "text": [
      "Input fist number 87\n",
      "Input second number:  99\n",
      "Input third number:  11\n"
     ]
    },
    {
     "name": "stdout",
     "output_type": "stream",
     "text": [
      "it is sorted smallest to largest 11 87 99\n"
     ]
    }
   ],
   "source": [
    "#Sorting\n",
    "first_num= int(input('Input fist number'))\n",
    "second_num = int(input(\"Input second number: \"))\n",
    "third_num  = int(input(\"Input third number: \"))\n",
    "a=min(first_num,second_num,third_num)\n",
    "c=max(first_num,second_num,third_num)\n",
    "b=(first_num+second_num+third_num)-a-c\n",
    "print('it is sorted smallest to largest', a,b,c)"
   ]
  },
  {
   "cell_type": "code",
   "execution_count": 8,
   "metadata": {},
   "outputs": [
    {
     "name": "stdout",
     "output_type": "stream",
     "text": [
      "[11, 87, 99]\n"
     ]
    }
   ],
   "source": [
    "def bubble_sort(l):\n",
    "    # We go through the list as many times as there are elements\n",
    "    for i in range(len(l)):\n",
    "        # We want the last pair of adjacent elements to be (n-2, n-1)\n",
    "        for j in range(len(l) - 1):\n",
    "            if l[j] > l[j+1]:\n",
    "                # Swap\n",
    "                l[j], l[j+1] = l[j+1], l[j]\n",
    "\n",
    "\n",
    "l = [87,99,11]\n",
    "bubble_sort(l)\n",
    "print(l)\n"
   ]
  },
  {
   "cell_type": "code",
   "execution_count": 16,
   "metadata": {},
   "outputs": [
    {
     "name": "stdin",
     "output_type": "stream",
     "text": [
      "Enter your score 0\n"
     ]
    },
    {
     "name": "stdout",
     "output_type": "stream",
     "text": [
      "N/S\n"
     ]
    }
   ],
   "source": [
    "# Grades\n",
    "#below example its calculating grade of studedent\n",
    "score=int(input('Enter your score'))\n",
    "\n",
    "if score >= 80 and score<=100:\n",
    "    print('A*')\n",
    "elif score>= 70 and score<=79:\n",
    "    print('A')\n",
    "elif score>= 60 and score<=69:\n",
    "    print('B')\n",
    "elif score>= 50 and score<=59:\n",
    "    print('C')\n",
    "elif score>= 40 and score<=49:\n",
    "    print('D')\n",
    "elif score>= 1 and score<=39:\n",
    "    print('F')\n",
    "elif score==0 :\n",
    "    print('N/S')\n",
    "else:\n",
    "    print('Invalid Input')\n",
    "\n"
   ]
  },
  {
   "cell_type": "code",
   "execution_count": 25,
   "metadata": {},
   "outputs": [
    {
     "name": "stdin",
     "output_type": "stream",
     "text": [
      "Enter Pokemon name: Bulbasaur\n"
     ]
    },
    {
     "name": "stdout",
     "output_type": "stream",
     "text": [
      "Bulbasaur type is Grass\n"
     ]
    }
   ],
   "source": [
    "#Who’s that Pokémon?\n",
    "\n",
    "typ=input('Enter Pokemon name:')\n",
    "first_letter=('S,T,C,M,B,O,P,V')\n",
    "if typ=='Squirtle' or typ=='Tentacool':\n",
    "    print((typ),' type is Water')\n",
    "elif typ=='Charmander' or typ=='Moltres':\n",
    "    print((typ),'type is Fire')\n",
    "elif typ=='Bulbasaur' or typ=='Oddish':\n",
    "    print((typ),'type is Grass')\n",
    "else:\n",
    "    print((typ),' type is Electric')\n"
   ]
  },
  {
   "cell_type": "code",
   "execution_count": 28,
   "metadata": {},
   "outputs": [
    {
     "name": "stdin",
     "output_type": "stream",
     "text": [
      "Enter type of pokemon: Grass\n",
      "put first letter: B\n"
     ]
    },
    {
     "name": "stdout",
     "output_type": "stream",
     "text": [
      "suggestion is Bulbasaur\n"
     ]
    }
   ],
   "source": [
    "\n",
    "typ=input('Enter type of pokemon:')\n",
    "fl=input('put first letter:')\n",
    "\n",
    "if typ=='Water' and fl=='S' :\n",
    "    print('suggestion is Squirtle')\n",
    "elif typ=='Water' and fl=='T':\n",
    "    print('suggestion is Tentacool')\n",
    "\n",
    "elif typ=='Fire' and fl=='C':\n",
    "    print('suggestion is Charmander')\n",
    "    \n",
    "elif typ=='Fire' and fl=='M':\n",
    "    print('suggestion is Moltres')    \n",
    "    \n",
    "elif typ=='Grass' and fl=='B':\n",
    "    print('suggestion is Bulbasaur')   \n",
    "    \n",
    "elif typ=='Grass' and fl=='O':\n",
    "    print('suggestion is Oddish') \n",
    "    \n",
    "elif typ=='Electric' and fl=='P':\n",
    "    print('suggestion is Pikachu')\n",
    "          \n",
    "elif typ=='Electric' and fl=='V':\n",
    "    print('suggestion is Voltorb')   \n",
    "else:\n",
    "    print('Not Defineted')\n",
    "    \n",
    "\n"
   ]
  },
  {
   "cell_type": "code",
   "execution_count": null,
   "metadata": {},
   "outputs": [],
   "source": []
  },
  {
   "cell_type": "code",
   "execution_count": 3,
   "metadata": {
    "collapsed": true,
    "jupyter": {
     "outputs_hidden": true
    }
   },
   "outputs": [
    {
     "name": "stdout",
     "output_type": "stream",
     "text": [
      "10\n",
      "20\n",
      "66\n",
      "89\n",
      "quit\n"
     ]
    }
   ],
   "source": [
    "#Comparing Many Numbers\n",
    "\n",
    "\n",
    "n=[10,20,66,89]\n",
    "count=0\n",
    "while count<len(n):\n",
    "    print(n[count])\n",
    "    count +=1\n",
    "print('quit')\n",
    "\n"
   ]
  },
  {
   "cell_type": "code",
   "execution_count": 4,
   "metadata": {
    "collapsed": true,
    "jupyter": {
     "outputs_hidden": true
    }
   },
   "outputs": [
    {
     "name": "stdout",
     "output_type": "stream",
     "text": [
      "0\n",
      "1\n",
      "2\n",
      "3\n",
      "4\n",
      "5\n",
      "6\n",
      "quit\n"
     ]
    }
   ],
   "source": [
    "for x in range(7):\n",
    "    print(x)\n",
    "else:\n",
    "    print(\"quit\")"
   ]
  },
  {
   "cell_type": "code",
   "execution_count": null,
   "metadata": {},
   "outputs": [],
   "source": [
    "count = 0\n",
    "while (count < 12):\n",
    "    print ('The count is:', count)\n",
    "    count = count + 2\n",
    "\n",
    "print (\"Good bye!\")"
   ]
  },
  {
   "cell_type": "code",
   "execution_count": 14,
   "metadata": {
    "collapsed": true,
    "jupyter": {
     "outputs_hidden": true
    }
   },
   "outputs": [
    {
     "name": "stdout",
     "output_type": "stream",
     "text": [
      "14\n",
      "19\n",
      "21\n",
      "89\n"
     ]
    }
   ],
   "source": [
    "#Sum of Numbers at Even Indices\n",
    "l=[14,5,19,20,21,66,89]\n",
    "current=0\n",
    "while current<len(l):\n",
    "        print(l[current])\n",
    "        current +=2"
   ]
  },
  {
   "cell_type": "code",
   "execution_count": null,
   "metadata": {},
   "outputs": [],
   "source": [
    "#Sum of Numbers at Even Indices\n",
    "cs=int(input('Enter credit score' ))  \n",
    "ad=int(input('Enter adress term'))\n",
    "i=int(input('Enter income'))\n",
    "rqt=int(input('Enter loan amount requested'))\n",
    "if i==0 or cs==0 or ad<12:\n",
    "    print('Request is refused:')\n",
    "elif rqt>i and rqt<i*2 and ad>=60 and cs>=5 and cs<=10:\n",
    "    print('Loan is granted:',(rqt))\n",
    "elif  cs>=7 and cs<=10 and ad>=12 and cs<=60 and rqt<i:\n",
    "    print('Loan is granted:',(rqt))\n",
    "elif cs>=2 and cs<=5 and ad>=60 and rqt<i:\n",
    "    print('Loan is granted:',(rqt))\n",
    "elif cs==1 and ad>12 and rqt<i*20/100:\n",
    "    print('Loan is granted:', (rqt))\n",
    "else:\n",
    "    print('Application is refused ')"
   ]
  }
 ],
 "metadata": {
  "kernelspec": {
   "display_name": "Python 3",
   "language": "python",
   "name": "python3"
  },
  "language_info": {
   "codemirror_mode": {
    "name": "ipython",
    "version": 3
   },
   "file_extension": ".py",
   "mimetype": "text/x-python",
   "name": "python",
   "nbconvert_exporter": "python",
   "pygments_lexer": "ipython3",
   "version": "3.7.6"
  }
 },
 "nbformat": 4,
 "nbformat_minor": 4
}
